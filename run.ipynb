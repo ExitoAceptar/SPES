{
 "cells": [
  {
   "cell_type": "code",
   "execution_count": 1,
   "id": "d9ca75d7",
   "metadata": {},
   "outputs": [],
   "source": [
    "import pandas as pd\n",
    "import numpy as np\n",
    "import os\n",
    "from collections import defaultdict\n",
    "import matplotlib.pyplot as plt\n",
    "from tqdm import tqdm\n",
    "from scipy import stats\n",
    "\n",
    "file_name = \"../../raw_data/azurefunctions-dataset2019/invocations_per_function_md.anon.d\"\n",
    "train_file_names, test_file_names = [file_name+\"%02d.csv\" % (i) for i in range(1, 13)], [file_name+\"13.csv\", file_name+\"14.csv\"]"
   ]
  },
  {
   "cell_type": "code",
   "execution_count": 2,
   "id": "a202a1f2",
   "metadata": {},
   "outputs": [
    {
     "data": {
      "text/plain": [
       "(71616, 39388)"
      ]
     },
     "execution_count": 2,
     "metadata": {},
     "output_type": "execute_result"
    }
   ],
   "source": [
    "train_func_arrcount = {}\n",
    "train_func_owner_app = {}\n",
    "train_owner_func = defaultdict(set)\n",
    "train_app_func = defaultdict(set)\n",
    "\n",
    "func_trigger = defaultdict(set)\n",
    "\n",
    "for i, file in enumerate(train_file_names):\n",
    "    df = pd.read_csv(file)\n",
    "    \n",
    "    for _, row in df.iterrows():\n",
    "        func = row[\"HashFunction\"]\n",
    "        train_func_owner_app[func] = row[\"HashOwner\"]+'\\t'+row[\"HashApp\"]\n",
    "        train_owner_func[row[\"HashOwner\"]].add(func)\n",
    "        train_app_func[row[\"HashApp\"]].add(func)\n",
    "        func_trigger[func].add(row[\"Trigger\"])\n",
    "        \n",
    "        if func not in train_func_arrcount:\n",
    "            train_func_arrcount[func] = [0]*12*1440\n",
    "        train_func_arrcount[func][i*1440: (i+1)*1440] = list(row[4:].values)\n",
    "    del df\n",
    "\n",
    "test_func_arrcount = {}\n",
    "test_func_owner_app = {}\n",
    "test_owner_func = defaultdict(set)\n",
    "test_app_func = defaultdict(set)\n",
    "\n",
    "for i, file in enumerate(test_file_names):\n",
    "    df = pd.read_csv(file)\n",
    "    \n",
    "    for _, row in df.iterrows():\n",
    "        func = row[\"HashFunction\"]\n",
    "        test_func_owner_app[func] = row[\"HashOwner\"]+'\\t'+row[\"HashApp\"]\n",
    "        test_owner_func[row[\"HashOwner\"]].add(func)\n",
    "        test_app_func[row[\"HashApp\"]].add(func)\n",
    "        func_trigger[func].add(row[\"Trigger\"])\n",
    "        \n",
    "        if func not in test_func_arrcount:\n",
    "            test_func_arrcount[func] = [0]*2*1440    \n",
    "        test_func_arrcount[func][i*1440: (i+1)*1440] = list(row[4:].values)\n",
    "    del df\n",
    "    \n",
    "train_NUM, test_NUM = len(train_func_arrcount), len(test_func_arrcount)\n",
    "train_NUM, test_NUM"
   ]
  },
  {
   "cell_type": "code",
   "execution_count": 3,
   "id": "9c195392",
   "metadata": {},
   "outputs": [],
   "source": [
    "class func_state:\n",
    "    def __init__(self, _type = 0, forget = 0):\n",
    "        self.type = _type #0 Unknown, 1: always warm, 2: almost warm, 3:uniform, 4: lasting, 5: ApproUniform, 6:possion, \n",
    "        self.forget = forget\n",
    "        \n",
    "        self.unite = False\n",
    "        \n",
    "        self.state = False \n",
    "        self.load_time = None \n",
    "        self.idle_time = None \n",
    "        self.last_call = None \n",
    "        self.pre = None \n",
    "        \n",
    "        self.idle_info = {} \n",
    "        self.invok_info = {}\n",
    "        \n",
    "        self.pred_interval = []\n",
    "        self.next_invok_start = [] \n",
    "        \n",
    "        self.active = False\n",
    "        self.adp_idle = []\n",
    "    \n",
    "    def load(self, load_time):\n",
    "        self.state = True\n",
    "        self.load_time = load_time\n",
    "    \n",
    "    def cal_lasting(self, cur_time): \n",
    "        if not self.state:\n",
    "            return 0\n",
    "        return cur_time - load_time + 1\n",
    "    \n",
    "    def unload(self):\n",
    "        self.state = False\n",
    "        self.load_time = None\n",
    "    \n",
    "    def cal_idle(self):\n",
    "        if self.idle_time is None:\n",
    "            self.idle_time = 0\n",
    "        self.idle_time += 1\n",
    "    \n",
    "    def reset(self, pred=False):\n",
    "        self.unload()\n",
    "        self.idle_time = None\n",
    "        self.adp_idle = []\n",
    "        self.last_call = None\n",
    "        self.pre = None\n",
    "        \n",
    "        if pred:\n",
    "            self.next_invok_start = []"
   ]
  },
  {
   "cell_type": "code",
   "execution_count": 11,
   "id": "e1d8bad0",
   "metadata": {},
   "outputs": [],
   "source": [
    "FILL_ZERO_FLAG = True\n",
    "shown_func_num = 1000\n",
    "UNKNOWN, WARM, REGULAR, APPRO_REGULAR, DENSE, SUCCESSIVE, PLUSED, POSSIBLE, CORR, NEW_POSS = 0, 1, 2, 3, 4, 5, 6, 7, 8, 9 #Diviable? Active?\n",
    "TYPE_NUM = 10"
   ]
  },
  {
   "cell_type": "code",
   "execution_count": 5,
   "id": "fae94e89",
   "metadata": {},
   "outputs": [
    {
     "data": {
      "text/plain": [
       "(71616, 38645)"
      ]
     },
     "execution_count": 5,
     "metadata": {},
     "output_type": "execute_result"
    }
   ],
   "source": [
    "func_class = {func: func_state() for func in train_func_arrcount.keys()}\n",
    "len(func_class), len(set(train_func_arrcount.keys()) & set(test_func_arrcount.keys()))"
   ]
  },
  {
   "cell_type": "markdown",
   "id": "c57e67b4",
   "metadata": {},
   "source": [
    "# Well-known Function Categorization\n",
    "\n",
    "###  Warm"
   ]
  },
  {
   "cell_type": "code",
   "execution_count": 6,
   "id": "90a2360d",
   "metadata": {},
   "outputs": [
    {
     "name": "stderr",
     "output_type": "stream",
     "text": [
      " 99%|███████████████████████████████████▋| 71000/71616 [01:16<00:00, 922.52it/s]\n"
     ]
    },
    {
     "data": {
      "text/plain": [
       "(1119, 720)"
      ]
     },
     "execution_count": 6,
     "metadata": {},
     "output_type": "execute_result"
    }
   ],
   "source": [
    "always_num = 0\n",
    "almost_num = 0\n",
    "\n",
    "c = 0\n",
    "with tqdm(total=train_NUM) as pbar:\n",
    "    for func, arrcount in train_func_arrcount.items():\n",
    "        c += 1\n",
    "        if 0 not in arrcount:\n",
    "            func_class[func].type = WARM\n",
    "            always_num += 1\n",
    "        \n",
    "        elif np.count_nonzero(np.array(arrcount) == 0) < 0.001 * len(arrcount):\n",
    "            func_class[func].type = WARM\n",
    "            almost_num += 1\n",
    "        \n",
    "        if c % shown_func_num == 0:\n",
    "            pbar.update(shown_func_num)\n",
    "\n",
    "warm_num = almost_num + always_num\n",
    "almost_num, always_num"
   ]
  },
  {
   "cell_type": "code",
   "execution_count": 7,
   "id": "b0e46199",
   "metadata": {},
   "outputs": [],
   "source": [
    "def merge(lst):\n",
    "    unique, counts = np.unique(lst, return_counts=True)\n",
    "    mode = unique[np.argmax(counts)]\n",
    "    if mode < 500: return lst\n",
    "    if max(counts) < len(counts) / 2: return lst\n",
    "    \n",
    "    used = [False] * len(lst)\n",
    "    new_lst = []\n",
    "\n",
    "    for i in range(0, len(lst)):\n",
    "        if lst[i] <= mode*0.25:\n",
    "            continue\n",
    "        else:\n",
    "            cur = lst[i]\n",
    "            for k in range(1, i+1):\n",
    "                cur_idx = max(0, i-k)\n",
    "                if lst[cur_idx] >= mode * 0.75: break\n",
    "                if cur + lst[cur_idx] <= mode and lst[cur_idx] <= mode*0.25 and not used[cur_idx]:\n",
    "                    used[cur_idx] = True\n",
    "                    cur += lst[cur_idx]\n",
    "            for k in range(1, len(lst)-i):\n",
    "                cur_idx = min(len(lst)-1, i+k)\n",
    "                if lst[cur_idx] >= mode * 0.75: break\n",
    "                if cur + lst[cur_idx] <= mode and lst[cur_idx] <= mode*0.25 and not used[cur_idx]:\n",
    "                    used[cur_idx] = True\n",
    "                    cur += lst[cur_idx]\n",
    "        new_lst.append(cur)\n",
    "    \n",
    "    if sum(used) / len(used) > 0.3:\n",
    "        return lst\n",
    "    return new_lst"
   ]
  },
  {
   "cell_type": "code",
   "execution_count": 8,
   "id": "09c0b631",
   "metadata": {},
   "outputs": [],
   "source": [
    "def conj_seq_lst(lst, count_invok=False, threshold=1):\n",
    "    seq_lenth_lst = []\n",
    "    pre_pos = -1\n",
    "    for i, e in enumerate(lst):\n",
    "        if not (bool(e) ^ count_invok): #11/00 -> True, 10/01 -> False\n",
    "            if pre_pos < 0:\n",
    "                pre_pos = i\n",
    "            if i == len(lst)-1 and i+1-pre_pos >= threshold:\n",
    "                seq_lenth_lst.append(i+1-pre_pos)\n",
    "        else:\n",
    "            if pre_pos>=0 and i-pre_pos >= threshold:\n",
    "                seq_lenth_lst.append(i-pre_pos)\n",
    "            pre_pos = -1\n",
    "    return seq_lenth_lst"
   ]
  },
  {
   "cell_type": "code",
   "execution_count": 9,
   "id": "a5921141",
   "metadata": {},
   "outputs": [
    {
     "name": "stderr",
     "output_type": "stream",
     "text": [
      " 99%|███████████████████████████████████▋| 71000/71616 [06:53<00:03, 171.69it/s]\n"
     ]
    },
    {
     "data": {
      "text/plain": [
       "(14809, 1384, 288)"
      ]
     },
     "execution_count": 9,
     "metadata": {},
     "output_type": "execute_result"
    }
   ],
   "source": [
    "SEQ_NUM_BOUND = 3\n",
    "\n",
    "regu1_num = 0\n",
    "regu2_num = 0\n",
    "merge_num = 0\n",
    "\n",
    "c = 0\n",
    "with tqdm(total=train_NUM) as pbar:\n",
    "    for func, arrcount in train_func_arrcount.items():\n",
    "        c += 1\n",
    "        if func_class[func].type >= UNI: func_class[func].type = 0\n",
    "        \n",
    "        if func_class[func].type == 0:\n",
    "            \n",
    "            non_invok = conj_seq_lst(arrcount)\n",
    "            invok = conj_seq_lst(arrcount, count_invok=True)\n",
    "            \n",
    "            if len(invok) >= SEQ_NUM_BOUND and len(non_invok) > 0:\n",
    "                unique, counts = np.unique(non_invok, return_counts=True)\n",
    "                mode = unique[np.argmax(counts)]\n",
    "                \n",
    "                if mode - non_invok[0] > 2:\n",
    "                    if arrcount[-1] > 0:\n",
    "                        non_invok = non_invok[1:]\n",
    "                    else:\n",
    "                        non_invok = non_invok[1:-1]\n",
    "                        \n",
    "                if np.percentile(non_invok, 95) - np.percentile(non_invok, 5) < 1:\n",
    "                    func_class[func].type = REGULAR\n",
    "                    regu1_num += 1\n",
    "                elif np.std(non_invok) / np.mean(non_invok) <= 0.01:\n",
    "                    func_class[func].type = REGULAR\n",
    "                    regu2_num += 1\n",
    "                    \n",
    "                if func_class[func].type == 0 and FILL_ZERO_FLAG: \n",
    "                    non_invok = merge(non_invok)\n",
    "\n",
    "                    if np.percentile(non_invok, 95) - np.percentile(non_invok, 5) < 1:\n",
    "                        func_class[func].unite = True\n",
    "                        func_class[func].type = REGULAR\n",
    "                        regu1_num += 1\n",
    "                        merge_num += 1\n",
    "                    elif np.std(non_invok) / np.mean(non_invok) <= 0.01:\n",
    "                        func_class[func].unite = True\n",
    "                        func_class[func].type = REGULAR\n",
    "                        regu2_num += 1\n",
    "                        merge_num += 1\n",
    "        \n",
    "        if c % shown_func_num == 0:\n",
    "            pbar.update(shown_func_num)\n",
    "\n",
    "regular_num = regu1_num + regu2_num\n",
    "regu1_num, regu2_num, merge_num"
   ]
  },
  {
   "cell_type": "markdown",
   "id": "988b2dae",
   "metadata": {},
   "source": [
    "### APPRO REGULAR"
   ]
  },
  {
   "cell_type": "code",
   "execution_count": 12,
   "id": "6801671c",
   "metadata": {},
   "outputs": [
    {
     "name": "stderr",
     "output_type": "stream",
     "text": [
      " 99%|███████████████████████████████████▋| 71000/71616 [03:01<00:01, 390.39it/s]\n"
     ]
    },
    {
     "data": {
      "text/plain": [
       "(6242, 288)"
      ]
     },
     "execution_count": 12,
     "metadata": {},
     "output_type": "execute_result"
    }
   ],
   "source": [
    "IDLE_NUM_MAX = 3 #Consider the first n modes\n",
    "IDLE_PERCEN = 0.9\n",
    "\n",
    "appro_num = 0\n",
    "\n",
    "c = 0\n",
    "with tqdm(total=train_NUM) as pbar:\n",
    "    for func, arrcount in train_func_arrcount.items():\n",
    "        c += 1\n",
    "        if c % shown_func_num == 0:\n",
    "            pbar.update(shown_func_num)\n",
    "\n",
    "        if func_class[func].type >= APPRO_REGULAR:\n",
    "            func_class[func].type = 0\n",
    "        \n",
    "        if func_class[func].type == 0:\n",
    "                \n",
    "            non_invok = conj_seq_lst(arrcount)\n",
    "            if len(non_invok) < SEQ_NUM_BOUND: continue\n",
    "            \n",
    "            non_invok_unique, non_invok_counts = np.unique(non_invok, return_counts=True)\n",
    "            non_mode_max_index = np.argsort(-non_invok_counts)[:IDLE_NUM_MAX]\n",
    "            \n",
    "            if max(non_invok_counts) > 1:#If all WT values only appear once, it's meaningless.\n",
    "                if sum(non_invok_counts[non_mode_max_index]) >= sum(non_invok_counts) * IDLE_PERCEN:\n",
    "                    appro_num += 1\n",
    "                    func_class[func].type = APPRO_REGULAR\n",
    "                    \n",
    "appro_num, merge_num"
   ]
  },
  {
   "cell_type": "markdown",
   "id": "861ef84d",
   "metadata": {},
   "source": [
    "### Dense\n"
   ]
  },
  {
   "cell_type": "code",
   "execution_count": 13,
   "id": "4e204203",
   "metadata": {},
   "outputs": [
    {
     "name": "stderr",
     "output_type": "stream",
     "text": [
      " 99%|███████████████████████████████████▋| 71000/71616 [02:36<00:01, 452.44it/s]\n"
     ]
    },
    {
     "data": {
      "text/plain": [
       "405"
      ]
     },
     "execution_count": 13,
     "metadata": {},
     "output_type": "execute_result"
    }
   ],
   "source": [
    "DENSE_UPPER_BOUND = 5\n",
    "DENSE_PERCEN = 90\n",
    "\n",
    "dense_num = 0\n",
    "\n",
    "c = 0\n",
    "with tqdm(total=train_NUM) as pbar:\n",
    "    for func, arrcount in train_func_arrcount.items():\n",
    "        c += 1\n",
    "        if func_class[func].type >= DENSE:\n",
    "            func_class[func].type = 0\n",
    "        \n",
    "        if func_class[func].type == 0:\n",
    "                \n",
    "            non_invok = conj_seq_lst(arrcount)\n",
    "            if np.percentile(non_invok, DENSE_PERCEN) < DENSE_UPPER_BOUND:\n",
    "                dense_num += 1\n",
    "                func_class[func].type = DENSE\n",
    "        \n",
    "        if c % shown_func_num == 0:\n",
    "            pbar.update(shown_func_num)\n",
    "\n",
    "dense_num  "
   ]
  },
  {
   "cell_type": "markdown",
   "id": "169e1d3e",
   "metadata": {},
   "source": [
    "### Successive"
   ]
  },
  {
   "cell_type": "code",
   "execution_count": 14,
   "id": "7ad1b588",
   "metadata": {},
   "outputs": [],
   "source": [
    "def cal_AN_seq(lst):\n",
    "    seq_lenth_num = []\n",
    "    pre_pos = -1\n",
    "    for i, e in enumerate(lst):\n",
    "        if bool(e):\n",
    "            if pre_pos < 0:\n",
    "                pre_pos = i\n",
    "            if i == len(lst)-1 and i-pre_pos >= 0:\n",
    "                seq_lenth_num.append(sum(lst[pre_pos:i+1]))\n",
    "        else:\n",
    "            if pre_pos >= 0 and i-pre_pos >= 1:\n",
    "                seq_lenth_num.append(sum(lst[pre_pos:i]))\n",
    "            pre_pos = -1\n",
    "    return seq_lenth_num"
   ]
  },
  {
   "cell_type": "code",
   "execution_count": 15,
   "id": "bb941934",
   "metadata": {},
   "outputs": [
    {
     "name": "stderr",
     "output_type": "stream",
     "text": [
      " 99%|███████████████████████████████████▋| 71000/71616 [03:02<00:01, 388.33it/s]\n"
     ]
    },
    {
     "data": {
      "text/plain": [
       "1683"
      ]
     },
     "execution_count": 15,
     "metadata": {},
     "output_type": "execute_result"
    }
   ],
   "source": [
    "gamma_1 = 10\n",
    "gamma_2 = 11\n",
    "\n",
    "successive_num = 0\n",
    "\n",
    "c = 0\n",
    "with tqdm(total=train_NUM) as pbar:\n",
    "    for func, arrcount in train_func_arrcount.items():\n",
    "        c += 1\n",
    "        if func_class[func].type >= SUCCESSIVE:\n",
    "            func_class[func].type = 0\n",
    "            \n",
    "        if func_class[func].type == 0:\n",
    "            invok = conj_seq_lst(arrcount, count_invok=True)\n",
    "            invok_seq_num = cal_AN_seq(arrcount)\n",
    "            \n",
    "            if min(invok) >= gamma_1 or min(invok_seq_num) >= gamma_2:\n",
    "                successive_num += 1\n",
    "                func_class[func].type = SUCCESSIVE\n",
    "        \n",
    "        if c % shown_func_num == 0:\n",
    "            pbar.update(shown_func_num)\n",
    "\n",
    "successive_num"
   ]
  },
  {
   "cell_type": "markdown",
   "id": "c2439989",
   "metadata": {},
   "source": [
    "## Forgetting..."
   ]
  },
  {
   "cell_type": "code",
   "execution_count": 14,
   "id": "b7c6e61b",
   "metadata": {
    "code_folding": [
     13
    ]
   },
   "outputs": [
    {
     "name": "stdout",
     "output_type": "stream",
     "text": [
      "^^^^^ Forgetting day 1 ^^^^^\n"
     ]
    },
    {
     "name": "stderr",
     "output_type": "stream",
     "text": [
      " 99%|███████████████████████████████████▋| 71000/71616 [04:17<00:02, 275.33it/s]\n"
     ]
    },
    {
     "name": "stdout",
     "output_type": "stream",
     "text": [
      "^^^^^ Forgetting day 2 ^^^^^\n"
     ]
    },
    {
     "name": "stderr",
     "output_type": "stream",
     "text": [
      " 99%|███████████████████████████████████▋| 71000/71616 [04:07<00:02, 286.42it/s]\n"
     ]
    },
    {
     "name": "stdout",
     "output_type": "stream",
     "text": [
      "^^^^^ Forgetting day 3 ^^^^^\n"
     ]
    },
    {
     "name": "stderr",
     "output_type": "stream",
     "text": [
      " 99%|███████████████████████████████████▋| 71000/71616 [03:53<00:02, 303.83it/s]\n"
     ]
    },
    {
     "name": "stdout",
     "output_type": "stream",
     "text": [
      "^^^^^ Forgetting day 4 ^^^^^\n"
     ]
    },
    {
     "name": "stderr",
     "output_type": "stream",
     "text": [
      " 99%|███████████████████████████████████▋| 71000/71616 [03:09<00:01, 374.23it/s]\n"
     ]
    },
    {
     "name": "stdout",
     "output_type": "stream",
     "text": [
      "^^^^^ Forgetting day 5 ^^^^^\n"
     ]
    },
    {
     "name": "stderr",
     "output_type": "stream",
     "text": [
      " 99%|███████████████████████████████████▋| 71000/71616 [02:38<00:01, 447.31it/s]\n"
     ]
    },
    {
     "name": "stdout",
     "output_type": "stream",
     "text": [
      "^^^^^ Forgetting day 6 ^^^^^\n"
     ]
    },
    {
     "name": "stderr",
     "output_type": "stream",
     "text": [
      " 99%|███████████████████████████████████▋| 71000/71616 [02:10<00:01, 542.50it/s]\n"
     ]
    },
    {
     "name": "stdout",
     "output_type": "stream",
     "text": [
      "^^^^^ Forgetting day 7 ^^^^^\n"
     ]
    },
    {
     "name": "stderr",
     "output_type": "stream",
     "text": [
      " 99%|███████████████████████████████████▋| 71000/71616 [02:02<00:01, 581.54it/s]\n"
     ]
    },
    {
     "data": {
      "text/plain": [
       "(340, 527)"
      ]
     },
     "execution_count": 14,
     "metadata": {},
     "output_type": "execute_result"
    }
   ],
   "source": [
    "DAY = 7\n",
    "change_num_day = [0]*DAY\n",
    "\n",
    "change_num = 0\n",
    "\n",
    "for day in range(1, DAY+1):\n",
    "    print(\"^^^^^ Forgetting day\", day, \"^\"*5)\n",
    "    c = 0\n",
    "    with tqdm(total=train_NUM) as pbar:\n",
    "        for func in train_func_arrcount:\n",
    "            c += 1\n",
    "            arrcount = train_func_arrcount[func][1440*day: ]\n",
    "                \n",
    "            if func_class[func].forget >= day:\n",
    "                func_class[func].forget = 0\n",
    "                func_class[func].type = 0\n",
    "        \n",
    "            if func_class[func].type == 0 and sum(arrcount) > 0:\n",
    "                \n",
    "                if 0 not in arrcount: # Always warm\n",
    "                    func_class[func].type = WARM\n",
    "                    always_num += 1\n",
    "                elif np.count_nonzero(np.array(arrcount) == 0) < 0.001 * len(arrcount): # Almost warm\n",
    "                    func_class[func].type = WARM\n",
    "                    almost_num += 1\n",
    "                \n",
    "                else:\n",
    "                    non_invok = conj_seq_lst(arrcount)\n",
    "                    invok = conj_seq_lst(arrcount, count_invok=True)\n",
    "                    idle_lenth_kind = sorted(list(set(non_invok)))\n",
    "                    \n",
    "                    non_invok_unique, non_invok_counts = np.unique(non_invok, return_counts=True)\n",
    "                    non_mode_max_index = np.argsort(-non_invok_counts)[:IDLE_NUM_MAX]\n",
    "                    \n",
    "                    cut = min(5, sum(np.where(non_invok_counts > 1, 1, 0)))\n",
    "                    new_index = np.argsort(-non_invok_counts)[:cut]\n",
    "                    \n",
    "                    mode = unique[np.argmax(counts)]\n",
    "                \n",
    "                    \n",
    "                    if len(invok) >= SEQ_NUM_BOUND and len(non_invok) > 1: #Uniform, ApproUni\n",
    "                        if arrcount[-1] == 0:\n",
    "                            non_invok = non_invok[:-1]\n",
    "                    \n",
    "                        if np.percentile(np.array(non_invok), 5) == np.percentile(np.array(non_invok), 95):\n",
    "                            func_class[func].type = REGULAR\n",
    "                            uniform_num += 1\n",
    "                        elif np.std(non_invok) / np.mean(non_invok) <= 0.01:\n",
    "                            func_class[func].type = REGULAR\n",
    "                            ApproUni_num += 1\n",
    "                        \n",
    "                        if func_class[func].type == 0 and FILL_ZERO_FLAG:\n",
    "                            non_invok = unite_lst(non_invok)\n",
    "                            if np.percentile(non_invok, 95) - np.percentile(non_invok, 5) < 1:\n",
    "                                func_class[func].unite = True\n",
    "                                func_class[func].type = REGULAR\n",
    "                                uniform_num += 1\n",
    "                                unite_num += 1\n",
    "                            elif np.std(non_invok) / np.mean(non_invok) <= 0.01:\n",
    "                                func_class[func].unite = True\n",
    "                                func_class[func].type = REGULAR\n",
    "                                ApproUni_num += 1\n",
    "                                unite_num += 1\n",
    "\n",
    "                    \n",
    "                    elif len(new_index) > 0 and sum(non_invok_counts[non_mode_max_index]) >= sum(non_invok_counts) * IDLE_PERCEN \\\n",
    "                                            and max(non_invok_counts[new_index])> 0.1 * sum(non_invok_counts):\n",
    "                        appro_num += 1\n",
    "                        func_class[func].type = APPRO_REGULAR\n",
    "                    \n",
    "                    elif FILL_ZERO_FLAG and len(non_invok) >= 2: \n",
    "                        if arrcount[-1] == 0:\n",
    "                            non_invok = non_invok[:-1]\n",
    "                    \n",
    "                        non_invok = unite_lst(non_invok)\n",
    "                        cut = min(5, sum(np.where(non_invok_counts > 1, 1, 0)))\n",
    "                        new_index = np.argsort(-non_invok_counts)[:cut]\n",
    "                        non_mode_max_index = np.argsort(-non_invok_counts)[:IDLE_NUM_MAX]\n",
    "\n",
    "                        if len(new_index) > 0 and sum(non_invok_counts[non_mode_max_index]) >= sum(non_invok_counts) * IDLE_PERCEN \\\n",
    "                                    and max(non_invok_counts[new_index])> 0.1 * sum(non_invok_counts):\n",
    "                            appro_num += 1\n",
    "                            func_class[func].type = REGULAR\n",
    "                            func_class[func].unite = True\n",
    "                            unite_num += 1\n",
    "\n",
    "                    elif func_class[func].type == 0:\n",
    "                        if np.percentile(non_invok, DENSE_PERCEN) < DENSE_UPPER_BOUND: #dense\n",
    "                            dense_num += 1\n",
    "                            func_class[func].type = DENSE\n",
    "                \n",
    "                        if min(invok) >= gamma_1 or min(invok_seq_num) >= gamma_2: #successive\n",
    "                            lasting_num += 1\n",
    "                            func_class[func].type = SUCCESSIVE                        \n",
    "        \n",
    "                if func_class[func].type > 0:\n",
    "                    change_num += 1\n",
    "                    change_num_day[day-1] += 1\n",
    "                    func_class[func].forget = day\n",
    "        \n",
    "            if c % shown_func_num == 0:\n",
    "                pbar.update(shown_func_num)\n",
    "\n",
    "warm_num = always_num + almost_num\n",
    "uni_num = uniform_num + ApproUni_num\n",
    "change_num, unite_num"
   ]
  },
  {
   "cell_type": "markdown",
   "id": "984e5b39",
   "metadata": {},
   "source": [
    "# Indetermined Function\n",
    "\n",
    "### Plused"
   ]
  },
  {
   "cell_type": "code",
   "execution_count": null,
   "id": "bcdb3dfb",
   "metadata": {},
   "outputs": [],
   "source": [
    "valid_split_DAY = 9\n",
    "func_valid_res = {func: {\"cold\": [20000]*3, \"waste\": [20000]*3} \n",
    "                  for func in train_func_arrcount \n",
    "                  if func_class[func].type >= PLUSED or func_class[func].type == 0\n",
    "                 }"
   ]
  },
  {
   "cell_type": "code",
   "execution_count": 16,
   "id": "541e4095",
   "metadata": {},
   "outputs": [
    {
     "name": "stderr",
     "output_type": "stream",
     "text": [
      " 99%|███████████████████████████████████▋| 71000/71616 [01:25<00:00, 826.90it/s]\n"
     ]
    },
    {
     "data": {
      "text/plain": [
       "13485"
      ]
     },
     "execution_count": 16,
     "metadata": {},
     "output_type": "execute_result"
    }
   ],
   "source": [
    "PLUSED_GIVEUP = 5\n",
    "useless_num = 0\n",
    "takein_assign_num = 0\n",
    "\n",
    "c = 0\n",
    "with tqdm(total=train_NUM) as pbar:\n",
    "    for func, arr in train_func_arrcount.items():\n",
    "        c += 1\n",
    "        if c % shown_func_num == 0:\n",
    "            pbar.update(shown_func_num)\n",
    "        \n",
    "        if func_class[func].type >= PLUSED:\n",
    "            func_class[func].type = 0\n",
    "        if func_class[func].type != 0: continue\n",
    "    \n",
    "        valid_arr = arr[1440*valid_split_DAY: ]\n",
    "        waste, used = 0, np.count_nonzero(valid_arr)\n",
    "        cold_num, invok_num = 0, sum(valid_arr)\n",
    "        \n",
    "        if invok_num <= 0: \n",
    "            useless_num += 1\n",
    "            continue\n",
    "        \n",
    "        takein_assign_num += 1\n",
    "        \n",
    "        state = False\n",
    "        for i, cur_invok in enumerate(valid_arr):\n",
    "            if cur_invok > 0:\n",
    "                if not state:\n",
    "                    state = True\n",
    "                    cold_num += 1\n",
    "            elif state:\n",
    "                waste += 1\n",
    "                if sum(valid_arr[max(0, i+1-PLUSED_GIVEUP): i]) == 0:\n",
    "                    state = False\n",
    "            \n",
    "            func_valid_res[func][\"cold\"][0], func_valid_res[func][\"waste\"][0] = cold_num/invok_num, waste/used\n",
    "\n",
    "useless_num"
   ]
  },
  {
   "cell_type": "markdown",
   "id": "03b2e1a5",
   "metadata": {},
   "source": [
    "### POSSIBLE"
   ]
  },
  {
   "cell_type": "code",
   "execution_count": 18,
   "id": "265397d3",
   "metadata": {},
   "outputs": [
    {
     "name": "stderr",
     "output_type": "stream",
     "text": [
      " 99%|███████████████████████████████████▋| 71000/71616 [04:25<00:02, 267.15it/s]\n"
     ]
    }
   ],
   "source": [
    "PRE_WARM = 2\n",
    "POSS_GIVEUP = 2\n",
    "DISCRETE_TH = 10\n",
    "\n",
    "possible = set()\n",
    "\n",
    "c = 0\n",
    "with tqdm(total=train_NUM) as pbar:\n",
    "    for func, arr in train_func_arrcount.items():\n",
    "        c += 1\n",
    "        if c % shown_func_num == 0:\n",
    "            pbar.update(shown_func_num)\n",
    "        \n",
    "        if func_class[func].type >= POSSIBLE:\n",
    "            func_class[func].type = 0\n",
    "            \n",
    "        if func_class[func].type != 0: continue\n",
    "        train_arr, valid_arr = arr[:1440 * valid_split_DAY], arr[1440 * valid_split_DAY:]\n",
    "        \n",
    "        waste, used = 0, np.count_nonzero(valid_arr)\n",
    "        cold_num, invok_num = 0, sum(valid_arr)\n",
    "        \n",
    "        non_invok = conj_seq_lst(arr)\n",
    "        non_invok_unique, non_invok_counts = np.unique(non_invok, return_counts=True)\n",
    "        \n",
    "        if invok_num == 0: \n",
    "            if max(non_invok_counts) >= 2:\n",
    "                possible.add(func)\n",
    "            continue\n",
    "        if max(non_invok_counts) < 2: continue\n",
    "        \n",
    "        state = False\n",
    "        ############## Calculate ##############\n",
    "        cut = min(5, sum(np.where(non_invok_counts > 1, 1, 0)))\n",
    "        non_mode_max_index = np.argsort(-non_invok_counts)[:cut]\n",
    "        modes = non_invok_unique[non_mode_max_index]\n",
    "        \n",
    "        if max(modes) - min(modes) <= DISCRETE_TH:\n",
    "            pred_value = [min(modes), max(modes)]\n",
    "            pred_value_discrete = False\n",
    "        else:\n",
    "            pred_value = sorted(list(modes))\n",
    "            pred_value_discrete = True\n",
    "        \n",
    "        ############## Calculate ##############\n",
    "        \n",
    "        \n",
    "        next_invok_start = []\n",
    "        wait_time = 1440 * valid_split_DAY\n",
    "        \n",
    "        ############## Prewarming at time 0 ##############\n",
    "        if np.count_nonzero(train_arr) > 0:\n",
    "            last_call = np.where(np.array(train_arr) > 0)[0][-1] - len(train_arr)\n",
    "            wait_time = non_invok[-1] if train_arr[-1] == 0 else 0\n",
    "            if pred_value_discrete:\n",
    "                next_invok_start = [(last_call + p + 1, last_call + p + 1) for p in pred_value]\n",
    "            else:\n",
    "                next_invok_start = [(last_call + pred_value[0] + 1, last_call + pred_value[1] + 1)]\n",
    "        \n",
    "            if train_arr[-1] > 0: state = True\n",
    "\n",
    "        for (left, right) in next_invok_start:\n",
    "            if left <= PRE_WARM and right >= -PRE_WARM:\n",
    "                state = True\n",
    "                break\n",
    "        ############## Prewarming at time 0 ##############\n",
    "        \n",
    "        \n",
    "        for i, cur_invok in enumerate(valid_arr):\n",
    "            if cur_invok > 0:\n",
    "                if not state:\n",
    "                    state = True\n",
    "                    cold_num += 1\n",
    "                \n",
    "                last_call = i\n",
    "                wait_time = 0\n",
    "                if pred_value_discrete:\n",
    "                    next_invok_start = [(i + p + 1, i + p + 1) for p in pred_value]\n",
    "                else:\n",
    "                    next_invok_start = [(i + pred_value[0] + 1, i + pred_value[1] + 1)]\n",
    "            else:\n",
    "                wait_time += 1\n",
    "                pre_warm_flag = False\n",
    "                for (left, right) in next_invok_start:\n",
    "                    if left <= i + PRE_WARM and right >= i - PRE_WARM:\n",
    "                        pre_warm_flag = True\n",
    "                        break      \n",
    "                if state:\n",
    "                    waste += 1\n",
    "                    if (not pre_warm_flag) and wait_time >= POSS_GIVEUP:\n",
    "                        state = False\n",
    "                elif pre_warm_flag:\n",
    "                    state = True\n",
    "        \n",
    "        func_valid_res[func][\"cold\"][1], func_valid_res[func][\"waste\"][1] = cold_num/invok_num, waste/used"
   ]
  },
  {
   "cell_type": "markdown",
   "id": "adcb11b2",
   "metadata": {},
   "source": [
    "## CORR\n",
    "\n",
    "#### Load Connections"
   ]
  },
  {
   "cell_type": "code",
   "execution_count": 15,
   "id": "a820638e",
   "metadata": {},
   "outputs": [
    {
     "name": "stdout",
     "output_type": "stream",
     "text": [
      "Reading file 0 ...\n",
      "Reading file 1 ...\n",
      "Reading file 2 ...\n",
      "Reading file 3 ...\n",
      "Reading file 4 ...\n",
      "Reading file 5 ...\n",
      "Reading file 6 ...\n",
      "Reading file 7 ...\n",
      "Reading file 8 ...\n",
      "Reading file 9 ...\n"
     ]
    },
    {
     "data": {
      "text/plain": [
       "23335"
      ]
     },
     "execution_count": 15,
     "metadata": {},
     "output_type": "execute_result"
    }
   ],
   "source": [
    "import os \n",
    "train_pre_func = defaultdict(list)\n",
    "\n",
    "if os.path.exists(\"../processed/func_prefunc\"):\n",
    "    for i in range(10):\n",
    "        if os.path.exists(f\"../processed/func_prefunc/{i}.txt\"):\n",
    "            print(\"Reading file\", i, \"...\")\n",
    "            with open(f\"../processed/func_prefunc/{i}.txt\", \"r\") as rf:\n",
    "                for line in rf:\n",
    "                    func, prefunc_line = line.strip().split(':')\n",
    "                    for element in prefunc_line.split('\\t'):\n",
    "                        (pre_func, lag, corr) = element.split(',')\n",
    "                        lag, corr = int(lag), float(corr)\n",
    "                        train_pre_func[func].append((pre_func, lag, corr))\n",
    "else:\n",
    "    print(\"No such file\")\n",
    "len(train_pre_func)"
   ]
  },
  {
   "cell_type": "markdown",
   "id": "d96249ee",
   "metadata": {},
   "source": [
    "#### Calculate the predictive values of candidate functions"
   ]
  },
  {
   "cell_type": "code",
   "execution_count": 19,
   "id": "b3663fdd",
   "metadata": {},
   "outputs": [
    {
     "name": "stderr",
     "output_type": "stream",
     "text": [
      "100%|██████████████████████████████████▉| 23300.0/23335 [06:10<00:00, 62.82it/s]\n"
     ]
    }
   ],
   "source": [
    "candi_pred_value = defaultdict(list)\n",
    "\n",
    "c = 0\n",
    "with tqdm(total=len(train_candi)) as pbar:\n",
    "    for _, tri_tuple_lst in train_candi.items():\n",
    "        c += 1\n",
    "        if c % (shown_func_num) == 0:\n",
    "            pbar.update(shown_func_num)\n",
    "        \n",
    "        for (candi_func, _, _) in tri_tuple_lst:\n",
    "            if candi_func in candi_pred_value: continue\n",
    "            \n",
    "            arrcount = train_func_arrcount[candi_func][1440*func_class[candi_func].forget:]\n",
    "            non_invok = conj_seq_lst(arrcount)\n",
    "\n",
    "            if func_class[candi_func].type == REGULAR: \n",
    "                candi_pred_value[candi_func] = [np.median(non_invok)]\n",
    "\n",
    "            elif func_class[candi_func].type in [APPRO_REGULAR, DENSE]:\n",
    "                non_invok_unique, non_invok_counts = np.unique(non_invok, return_counts=True)\n",
    "                non_mode_max_index = np.argsort(-non_invok_counts)[: min(5, sum(np.where(non_invok_counts > 1, 1, 0)))]\n",
    "                \n",
    "                if func_class[candi_func].type == APPRO_REGULAR:\n",
    "                    candi_pred_value[candi_func] = non_invok_unique[non_mode_max_index[: min(len(non_mode_max_index), IDLE_NUM_MAX)]].tolist()\n",
    "\n",
    "                elif func_class[candi_func].type == DENSE:\n",
    "                    if len(non_mode_max_index) > 0:\n",
    "                        candi_pred_value[candi_func] = [min(non_invok_unique[non_mode_max_index]), \n",
    "                                                        min(DENSE_UPPER_BOUND, max(non_invok_unique[non_mode_max_index]))]\n",
    "                    else:\n",
    "                        candi_pred_value[candi_func] = [min(non_invok_unique), min(DENSE_UPPER_BOUND, max(non_invok_unique))]       \n"
   ]
  },
  {
   "cell_type": "markdown",
   "id": "cc9de3dd",
   "metadata": {},
   "source": [
    "#### Calculate the last call of candidate functions at each time i"
   ]
  },
  {
   "cell_type": "code",
   "execution_count": 20,
   "id": "6fc1239c",
   "metadata": {},
   "outputs": [
    {
     "name": "stderr",
     "output_type": "stream",
     "text": [
      " 99%|██████████████████████████████████▍| 23000/23335 [00:17<00:00, 1341.46it/s]\n"
     ]
    }
   ],
   "source": [
    "candi_last_call_dict = {}\n",
    "\n",
    "c = 0\n",
    "with tqdm(total=len(train_candi)) as pbar:\n",
    "    for _, tri_tuple_lst in train_candi.items():\n",
    "        c += 1\n",
    "        if c % (shown_func_num) == 0:\n",
    "            pbar.update(shown_func_num)\n",
    "        \n",
    "        for (candi_func, _, _) in tri_tuple_lst:\n",
    "            if candi_func in candi_last_call_dict: continue\n",
    "            \n",
    "            candi_func_arrcount = train_func_arrcount[candi_func][: 1440 * valid_split_DAY]\n",
    "            if max(candi_func_arrcount) > 0:\n",
    "                last_call = np.where(np.array(candi_func_arrcount) > 0)[0][-1] - len(candi_func_arrcount)\n",
    "            else:\n",
    "                last_call = None\n",
    "            \n",
    "            valid_arr = train_func_arrcount[candi_func][1440 * valid_split_DAY: ]\n",
    "            candi_last_call_dict[candi_func] = [None] * len(valid_arr)\n",
    "            \n",
    "            for i, cur_invok in enumerate(valid_arr):\n",
    "                if cur_invok > 0:\n",
    "                    last_call = i\n",
    "                    candi_last_call_dict[candi_func][i] = i\n",
    "                else:\n",
    "                    candi_last_call_dict[candi_func][i] = last_call"
   ]
  },
  {
   "cell_type": "markdown",
   "id": "687fd916",
   "metadata": {},
   "source": [
    "#### Run correlated validation"
   ]
  },
  {
   "cell_type": "code",
   "execution_count": 21,
   "id": "ff9fa159",
   "metadata": {},
   "outputs": [
    {
     "name": "stderr",
     "output_type": "stream",
     "text": [
      "100%|█████████████████████████████████▉| 23300.0/23335 [02:47<00:00, 138.92it/s]\n"
     ]
    }
   ],
   "source": [
    "CORR_GIVEUP = 2\n",
    "\n",
    "takein_corr_num = 0\n",
    "\n",
    "c = 0\n",
    "with tqdm(total=len(train_candi)) as pbar:\n",
    "    for func, tri_tuple_lst in train_candi.items():\n",
    "        c += 1\n",
    "        if c % (shown_func_num/10) == 0:\n",
    "            pbar.update(shown_func_num/10)\n",
    "        \n",
    "        if func_class[func].type >= CORR:\n",
    "            func_class[func].type = 0\n",
    "            \n",
    "        if func_class[func].type != 0: continue\n",
    "        \n",
    "        train_arr, valid_arr = train_func_arrcount[func][:1440*valid_split_DAY], train_func_arrcount[func][1440*valid_split_DAY:]\n",
    "        waste, used = 0, np.count_nonzero(valid_arr)\n",
    "        cold_num, invok_num = 0, sum(valid_arr)\n",
    "        if invok_num <= 0: continue\n",
    "        \n",
    "        takein_corr_num += 1\n",
    "        \n",
    "        next_invok_start = []\n",
    "        ############## Calculate next_invok_start at time 0 ##############\n",
    "        for (candi_func, lag, _) in tri_tuple_lst:\n",
    "           \n",
    "            candi_func_arrcount = train_func_arrcount[candi_func][: 1440 * valid_split_DAY]\n",
    "            \n",
    "            if np.count_nonzero(candi_func_arrcount) > 0:\n",
    "                candi_last_call = np.where(np.array(candi_func_arrcount) > 0)[0][-1] - len(candi_func_arrcount)\n",
    "                next_invok_start += [(candi_last_call, candi_last_call + lag)]\n",
    "\n",
    "                if func_class[candi_func].type in [REGULAR, APPRO_REGULAR]:\n",
    "                    next_invok_start += [(candi_last_call + 1 + p, candi_last_call + 1 + p + lag) \n",
    "                                           for p in candi_pred_value[candi_func]]\n",
    "                elif func_class[candi_func].type == DENSE:\n",
    "                    next_invok_start += [(candi_last_call + 1 + candi_pred_value[candi_func][0], \n",
    "                                            candi_last_call + 1 + candi_pred_value[candi_func][1] + lag)]\n",
    "        \n",
    "        ############## Calculate next_invok_start at time 0 ##############\n",
    "        \n",
    "        state = False\n",
    "        wait_time = 1440 * valid_split_DAY\n",
    "        \n",
    "        ############## Prewarming at time 0 ##############\n",
    "        if np.count_nonzero(train_arr) > 0:\n",
    "            last_call = np.where(np.array(train_arr) > 0)[0][-1] - len(train_arr)\n",
    "            wait_time = non_invok[-1] if train_arr[-1] == 0 else 0\n",
    "            if train_arr[-1] > 0: state = True\n",
    "        \n",
    "        for (left, right) in next_invok_start:\n",
    "            if left <= PRE_WARM and right >= -PRE_WARM:\n",
    "                state = True\n",
    "                break\n",
    "        ############## Prewarming at time 0 ##############\n",
    "        \n",
    "        for i, cur_invok in enumerate(valid_arr):\n",
    "            next_invok_start = []\n",
    "            for (candi_func, lag, _) in tri_tuple_lst:\n",
    "                if candi_last_call_dict[candi_func][i] is not None:\n",
    "                    candi_last_call = candi_last_call_dict[candi_func][i]\n",
    "                    next_invok_start += [(candi_last_call, candi_last_call + lag)]\n",
    "\n",
    "                    if func_class[candi_func].type in [REGULAR, APPRO_REGULAR]:\n",
    "                        next_invok_start += [(candi_last_call + 1 + p, candi_last_call + 1 + p + lag) \n",
    "                                               for p in candi_pred_value[candi_func]]\n",
    "\n",
    "                    elif func_class[candi_func].type == DENSE:\n",
    "                        next_invok_start += [(candi_last_call + 1 + candi_pred_value[candi_func][0], \n",
    "                                            candi_last_call + 1 + candi_pred_value[candi_func][1] + lag)]\n",
    "\n",
    "            if cur_invok > 0:\n",
    "                if not state:\n",
    "                    state = True\n",
    "                    cold_num += 1\n",
    "                wait_time = 0\n",
    "            \n",
    "            else:\n",
    "                wait_time += 1\n",
    "                pre_warm_flag = False\n",
    "                for (left, right) in next_invok_start:\n",
    "                    if left <= i + PRE_WARM and right >= i - PRE_WARM:\n",
    "                        pre_warm_flag = True\n",
    "                        break\n",
    "\n",
    "                if state:\n",
    "                    waste += 1\n",
    "                    if (not pre_warm_flag) and wait_time >= CORR_GIVEUP:\n",
    "                        state = False\n",
    "                elif pre_warm_flag:\n",
    "                    state = True\n",
    "                \n",
    "        func_valid_res[func][\"cold\"][2], func_valid_res[func][\"waste\"][2] = cold_num/invok_num, waste/used\n",
    "\n",
    "takein_corr_num"
   ]
  },
  {
   "cell_type": "markdown",
   "id": "9c7a2cc6",
   "metadata": {},
   "source": [
    "### Assignment"
   ]
  },
  {
   "cell_type": "code",
   "execution_count": 22,
   "id": "bcd4479a",
   "metadata": {},
   "outputs": [
    {
     "name": "stdout",
     "output_type": "stream",
     "text": [
      "31429/44914 unknown functions are assigned.\n",
      "10284/13485 functions don't fit any of the three rules.\n",
      "7169 functions can be well-defined, 658 functions are not assigned but will appear during testing.\n",
      "1343 functions are assigned forcibly, 77 are active, 1187 are new divi, and 79 are CORR.\n"
     ]
    }
   ],
   "source": [
    "alpha = 0.5\n",
    "\n",
    "final_res = {}\n",
    "good_assign_num, unknown_valid_num, bad_assign_num = 0, 0, 0\n",
    "force_assign = [0] * 3\n",
    "\n",
    "\n",
    "for func, res in func_valid_res.items():\n",
    "    if min(res[\"cold\"]) < 20000:\n",
    "        \n",
    "        cold_idx, waste_idx = np.argmin(res[\"cold\"]), np.argmin(res[\"waste\"])\n",
    "\n",
    "        if cold_idx == waste_idx and res[\"cold\"][cold_idx] < 1:\n",
    "            final_res[func] = cold_idx\n",
    "            good_assign_num += 1\n",
    "\n",
    "        else:\n",
    "            if cold_idx < waste_idx and res[\"cold\"][cold_idx] == res[\"cold\"][waste_idx]: #same cold, choose the smaller waste\n",
    "                final_res[func] = waste_idx\n",
    "                good_assign_num += 1\n",
    "            elif waste_idx < cold_idx and res[\"waste\"][cold_idx] == res[\"waste\"][waste_idx]:\n",
    "                final_res[func] = cold_idx\n",
    "                good_assign_num += 1\n",
    "\n",
    "            elif res[\"cold\"][cold_idx] <= 0.6:\n",
    "                final_res[func] = cold_idx\n",
    "\n",
    "            elif res[\"cold\"][cold_idx] == 1:\n",
    "                bad_assign_num += 1\n",
    "                if func in possible:\n",
    "                    final_res[func] = 1\n",
    "                else:\n",
    "                    final_res[func] = 0\n",
    "\n",
    "            else:\n",
    "                if func in possible:\n",
    "                    final_res[func] = 1\n",
    "                else:\n",
    "                    delta_cold = alpha * (res[\"cold\"][waste_idx] - res[\"cold\"][cold_idx])/res[\"cold\"][cold_idx]\n",
    "                    delta_waste = (res[\"waste\"][cold_idx] - res[\"waste\"][waste_idx])/res[\"waste\"][waste_idx]\n",
    "                    if delta_cold <= delta_waste:\n",
    "                        final_res[func] = cold_idx\n",
    "                    else:\n",
    "                        final_res[func] = waste_idx   \n",
    "\n",
    "                force_assign[final_res[func]] += 1\n",
    "    else:\n",
    "        if func in possible:\n",
    "            final_res[func] = 1\n",
    "        else:\n",
    "            unknown_valid_num += 1\n",
    "        continue\n",
    "\n",
    "for func, idx in final_res.items():\n",
    "    func_class[func].type = PLUSED+idx\n",
    "\n",
    "print(f\"{len(final_res)}/{len(func_valid_res)} unknown functions are assigned.\")\n",
    "print(f\"{unknown_valid_num}/{useless_num} functions don't fit any of the three rules.\")\n",
    "print(f\"{good_assign_num} functions are assigned smoothly.\")\n",
    "print(f\"{sum(force_assign)} functions are assigned forcibly: {force_assign[0]} are plused, {force_assign[1]} are possible, and {force_assign[2]} are CORR.\")"
   ]
  },
  {
   "cell_type": "code",
   "execution_count": 23,
   "id": "1ffb2b04",
   "metadata": {},
   "outputs": [
    {
     "data": {
      "text/plain": [
       "(0.6666666666666666, 5.0, 6.553191489361702)"
      ]
     },
     "execution_count": 23,
     "metadata": {},
     "output_type": "execute_result"
    }
   ],
   "source": [
    "cold_ratio = [func_valid_res[func][\"cold\"][idx] for func, idx in final_res.items()]\n",
    "waste_ratio = [func_valid_res[func][\"waste\"][idx] for func, idx in final_res.items()]\n",
    "np.percentile(cold_ratio, 75), np.median(waste_ratio), np.percentile(waste_ratio, 75)"
   ]
  },
  {
   "cell_type": "markdown",
   "id": "23d2a84c",
   "metadata": {},
   "source": [
    "### Record Corr candidate functions"
   ]
  },
  {
   "cell_type": "code",
   "execution_count": 24,
   "id": "b0edc925",
   "metadata": {},
   "outputs": [
    {
     "data": {
      "text/plain": [
       "803"
      ]
     },
     "execution_count": 24,
     "metadata": {},
     "output_type": "execute_result"
    }
   ],
   "source": [
    "candifunc_func = defaultdict(list)\n",
    "all_corr_candi_num = 0\n",
    "\n",
    "for func, tuple_lst in train_candi.items():\n",
    "    if func_class[func].type == CORR:\n",
    "        func_all_corr_candi = True\n",
    "    \n",
    "        for (candi_func, lag, _) in tri_tuple_lst:\n",
    "            candifunc_func[candi_func].append((func, lag))\n",
    "            if func_class[candi_func].type != CORR:\n",
    "                func_all_corr_candi = False\n",
    "    \n",
    "        all_corr_candi_num += func_all_corr_candi\n",
    "\n",
    "all_corr_candi_num"
   ]
  },
  {
   "cell_type": "markdown",
   "id": "29e641c0",
   "metadata": {},
   "source": [
    "# Provision\n",
    "\n",
    "### Calculate basic info"
   ]
  },
  {
   "cell_type": "code",
   "execution_count": 27,
   "id": "bbe07a07",
   "metadata": {},
   "outputs": [
    {
     "name": "stderr",
     "output_type": "stream",
     "text": [
      " 99%|███████████████████████████████████▋| 71000/71616 [07:44<00:04, 152.75it/s]\n"
     ]
    },
    {
     "data": {
      "text/plain": [
       "0"
      ]
     },
     "execution_count": 27,
     "metadata": {},
     "output_type": "execute_result"
    }
   ],
   "source": [
    "additional_poss_num = 0\n",
    "\n",
    "c = 0\n",
    "with tqdm(total=train_NUM) as pbar:\n",
    "    for func in train_func_arrcount:\n",
    "        func_class[func].reset(True)\n",
    "        c += 1\n",
    "        if c % shown_func_num == 0:\n",
    "            pbar.update(shown_func_num)\n",
    "            \n",
    "        if func_class[func].type == WARM: continue\n",
    "            \n",
    "        func_class[func].pred_interval = [] #pred_value\n",
    "\n",
    "        arrcount = train_func_arrcount[func][1440*func_class[func].forget:]\n",
    "        func_class[func].last_call = np.where(np.array(arrcount)>0)[0][-1] - len(arrcount)\n",
    "        #assert func_class[func].last_call < 0\n",
    "\n",
    "        invok = conj_seq_lst(arrcount, count_invok=True)\n",
    "        non_invok = conj_seq_lst(arrcount)\n",
    "\n",
    "        func_class[func].wait_time = non_invok[-1] if arrcount[-1] == 0 else 0\n",
    "        func_class[func].pre_call_start = func_class[func].last_call - invok[-1] + 1\n",
    "\n",
    "        func_class[func].lasting_info = {\"max\": np.max(invok), \"seq_num\": len(invok)}\n",
    "        func_class[func].idle_info = {\"max\": np.max(non_invok), \"std\": np.std(non_invok), \"kind\": len(set(non_invok))}\n",
    "        \n",
    "        if func_class[func].type == REGULAR:\n",
    "            func_class[func].pred_interval = [np.median(non_invok)]\n",
    "        \n",
    "        else:\n",
    "            non_invok_unique, non_invok_counts = np.unique(non_invok, return_counts=True)\n",
    "            mode_cut = min(5, sum(np.where(non_invok_counts > 1, 1, 0)))\n",
    "            ordered_index = np.argsort(-non_invok_counts)\n",
    "            non_mode_max_index = ordered_index[: mode_cut]\n",
    "            \n",
    "            func_class[func].idle_info[\"mode\"] = non_invok_unique[non_mode_max_index].tolist() #In the order of occuring count\n",
    "            func_class[func].idle_info[\"mode_count\"] = non_invok_counts[non_mode_max_index].tolist()\n",
    "\n",
    "            if func_class[func].type == APPRO_REGULAR:\n",
    "                func_class[func].pred_interval = non_invok_unique[ordered_index[: min(len(ordered_index), IDLE_NUM_MAX)]].tolist()\n",
    "\n",
    "            elif func_class[func].type == DENSE:\n",
    "                if len(non_mode_max_index) > 0:\n",
    "                    func_class[func].pred_interval = [min(func_class[func].idle_info[\"mode\"]),\n",
    "                        min(10, max(func_class[func].idle_info[\"mode\"]))]\n",
    "                else:\n",
    "                    func_class[func].pred_interval = [min(non_invok_unique), min(IDLE_NUM_MAX, max(non_invok_unique))]\n",
    "            \n",
    "            elif func_class[func].type == NEW_POSS:\n",
    "                func_class[func].type = 0\n",
    "            \n",
    "            if func_class[func].type == POSSIBLE or (func_class[func].type == UNKNOWN and len(non_mode_max_index) > 0):\n",
    "                additional_poss_num += (func_class[func].type == UNKNOWN)\n",
    "                func_class[func].type = POSSIBLE\n",
    "                if max(func_class[func].idle_info[\"mode\"]) - min(func_class[func].idle_info[\"mode\"]) <= DISCRETE_TH:\n",
    "                    func_class[func].pred_interval = [min(func_class[func].idle_info[\"mode\"]), \n",
    "                                                      max(func_class[func].idle_info[\"mode\"])]\n",
    "                    func_class[func].idle_info[\"pred_interval_discrete\"] = False\n",
    "                else: \n",
    "                    func_class[func].pred_interval = sorted(list(func_class[func].idle_info[\"mode\"]))\n",
    "                    func_class[func].idle_info[\"pred_interval_discrete\"] = True\n",
    "\n",
    "\n",
    "additional_poss_num"
   ]
  },
  {
   "cell_type": "markdown",
   "id": "66610ae8",
   "metadata": {},
   "source": [
    "### Rank func & Reset\n",
    "\n",
    "#### Rank"
   ]
  },
  {
   "cell_type": "code",
   "execution_count": 28,
   "id": "c94ef812",
   "metadata": {},
   "outputs": [
    {
     "data": {
      "text/plain": [
       "71616"
      ]
     },
     "execution_count": 28,
     "metadata": {},
     "output_type": "execute_result"
    }
   ],
   "source": [
    "func_lst, func_corr_lst = set(), set()\n",
    "\n",
    "for func in func_class:\n",
    "    if func_class[func].type == CORR:\n",
    "        func_corr_lst.add(func)\n",
    "    else:\n",
    "        func_lst.add(func)\n",
    "\n",
    "for func in test_func_arrcount:\n",
    "    if func in func_class: continue\n",
    "    func_lst.add(func)\n",
    "    func_class[func] = func_state()\n",
    "\n",
    "func_lst, func_corr_lst = list(func_lst), list(func_corr_lst)\n",
    "\n",
    "len(func_class), len(func_lst)+len(func_corr_lst)"
   ]
  },
  {
   "cell_type": "code",
   "execution_count": 29,
   "id": "9b01c50a",
   "metadata": {},
   "outputs": [],
   "source": [
    "test_func_corr = defaultdict(set)\n",
    "\n",
    "for func, ownerapp in test_func_owner_app.items():\n",
    "    if func not in train_func_arrcount:\n",
    "        owner, app = ownerapp.split('\\t')\n",
    "        candi_func_set = (test_owner_func[owner] | test_app_func[app])\n",
    "        if len(candi_func_set) == 1: continue\n",
    "        \n",
    "        candi_func_set.remove(func)\n",
    "        for candi_func in candi_func_set:\n",
    "            if len(func_trigger[func] & func_trigger[candi_func]) > 0:\n",
    "                test_func_corr[func].add(candi_func)\n",
    "\n",
    "test_func_corr_perform = {func: {candi_func: 0} for candi_func in test_func_corr[func]}"
   ]
  },
  {
   "cell_type": "markdown",
   "id": "77a9a7ec",
   "metadata": {},
   "source": [
    "## Calculate predictive values & predictions at time 0"
   ]
  },
  {
   "cell_type": "code",
   "execution_count": 31,
   "id": "f35fc424",
   "metadata": {},
   "outputs": [],
   "source": [
    "PRE_WARM = 2\n",
    "EN_STD = 2\n",
    "\n",
    "GIVE_UP = {\n",
    "    UNKNOWN: POSS_GIVEUP,\n",
    "    WARM: 1440 * 14,\n",
    "    REGULAR: 1,\n",
    "    APPRO_REGULAR: 1,\n",
    "    DENSE: DENSE_UPPER_BOUND,\n",
    "    SUCCESSIVE: 1,\n",
    "    PLUSED: PLUSED_GIVEUP,\n",
    "    POSSIBLE: POSS_GIVEUP,\n",
    "    CORR: CORR_GIVEUP,\n",
    "    NEW_POSS: POSS_GIVEUP,\n",
    "}"
   ]
  },
  {
   "cell_type": "markdown",
   "id": "50a76763",
   "metadata": {},
   "source": [
    "#### Predictive values"
   ]
  },
  {
   "cell_type": "code",
   "execution_count": null,
   "id": "8d6c64f0",
   "metadata": {},
   "outputs": [],
   "source": [
    "for func in train_func_arrcount: # calculate next invok start at time 0\n",
    "    _type = func_class[func].type\n",
    "\n",
    "    if _type == REGULAR: \n",
    "        p = func_class[func].last_call + 1\n",
    "        if p < 0:\n",
    "            p += (func_class[func].pred_interval[0] + 1)\n",
    "        func_class[func].next_invok_start = [(p - min(func_class[func].idle_info[\"std\"], EN_STD), \n",
    "                                              p + min(func_class[func].idle_info[\"std\"], EN_STD))]\n",
    "\n",
    "    elif _type == APPRO_REGULAR:\n",
    "        func_class[func].next_invok_start = [(func_class[func].last_call + p + 1, func_class[func].last_call + p + 1) \n",
    "                                                 for p in func_class[func].pred_interval]\n",
    "    elif _type == DENSE: \n",
    "        func_class[func].next_invok_start = [(func_class[func].last_call+func_class[func].pred_interval[0]+1,\n",
    "                                             func_class[func].last_call+func_class[func].pred_interval[1]+1)]\n",
    "    elif _type == CORR:\n",
    "        func_class[func].next_invok_start = defaultdict(list)\n",
    "        for (candi_func, lag, _ ) in train_candi[func]:\n",
    "            func_class[func].next_invok_start[candi_func].append(\n",
    "                (func_class[candi_func].last_call, func_class[candi_func].last_call + lag)\n",
    "            )\n",
    "            if func_class[candi_func].type != CORR: #otherwise, endless loop\n",
    "                func_class[func].next_invok_start[candi_func] += [(nis[0], nis[1] + lag) for nis in func_class[candi_func].next_invok_start]\n",
    "\n",
    "    elif _type in [POSSIBLE, NEW_POSS]:\n",
    "        if func_class[func].idle_info[\"pred_interval_discrete\"]:\n",
    "            func_class[func].next_invok_start = [(func_class[func].last_call + p + 1, func_class[func].last_call + p + 1) \n",
    "                                                       for p in func_class[func].pred_interval]\n",
    "        else:\n",
    "            func_class[func].next_invok_start = [(func_class[func].last_call+func_class[func].pred_interval[0]+1,\n",
    "                                            func_class[func].last_call+func_class[func].pred_interval[1]+1)]\n",
    "    "
   ]
  },
  {
   "cell_type": "markdown",
   "id": "de827c93",
   "metadata": {},
   "source": [
    "#### Initialize memory"
   ]
  },
  {
   "cell_type": "code",
   "execution_count": 32,
   "id": "0177076c",
   "metadata": {},
   "outputs": [],
   "source": [
    "memory = set()\n",
    "\n",
    "for func in train_func_arrcount: #Pre_warm for testing at time 0\n",
    "    _type = func_class[func].type\n",
    "    \n",
    "    if _type == WARM:\n",
    "        memory.add(func)\n",
    "        func_class[func].load(0)\n",
    "\n",
    "    elif _type in [SUCCESSIVE, CORR, POSSIBLE, NEW_POSS, UNKNOWN] and (func_class[func].last_call == -1):            \n",
    "        memory.add(func)\n",
    "        func_class[func].load(0)\n",
    "    \n",
    "    elif _type == PLUSED and (func_class[func].last_call + GIVE_UP[PLUSED] >= 0):\n",
    "        memory.add(func)\n",
    "        func_class[func].load(0)\n",
    "\n",
    "    elif _type in [REGULAR, APPRO_REGULAR, DENSE] and func_class[func].last_call == -1 \\\n",
    "        and (func_class[func].lasting_info[\"max\"] > 1 or func_class[func].lasting_info[\"seq_num\"] == 1):\n",
    "        memory.add(func)\n",
    "        func_class[func].load(0)\n",
    "\n",
    "    # Pre-warm funcs having next_invok_start\n",
    "    if _type == CORR:\n",
    "        flag = False\n",
    "        for _, tuple_lst in func_class[func].next_invok_start.items():\n",
    "            for (left, right) in tuple_lst:\n",
    "                if left <= PRE_WARM and right >= -PRE_WARM:\n",
    "                    memory.add(func)\n",
    "                    func_class[func].load(0)\n",
    "                    flag = True\n",
    "                    break\n",
    "            if flag: break\n",
    "                \n",
    "    elif _type in [REGULAR, APPRO_REGULAR, DENSE, POSSIBLE, NEW_POSS]:\n",
    "        for (left, right) in func_class[func].next_invok_start:\n",
    "            if left <= PRE_WARM and right >= -PRE_WARM:\n",
    "                memory.add(func)\n",
    "                func_class[func].load(0)\n",
    "                break"
   ]
  },
  {
   "cell_type": "markdown",
   "id": "bb999a98",
   "metadata": {},
   "source": [
    "# Simulating"
   ]
  },
  {
   "cell_type": "code",
   "execution_count": null,
   "id": "4c5b5c9b",
   "metadata": {},
   "outputs": [],
   "source": [
    "import bisect\n",
    "import random\n",
    "\n",
    "SHIFT = True #adaptive strategies\n",
    "func_cold = {func: 0 for func in test_func_arrcount}\n",
    "func_invok = {func: 0 for func in test_func_arrcount}\n",
    "\n",
    "func_invok_bool = {func: 0 for func in test_func_arrcount}\n",
    "func_waste = {func: 0 for func in test_func_arrcount}\n",
    "\n",
    "waste_mem_time = 0\n",
    "\n",
    "memory_size = []\n",
    "\n",
    "with tqdm(total=1440 * 2) as pbar:\n",
    "    for i in range(1440 * 2):\n",
    "        if (i+1) % 40 == 0:  pbar.update(40)\n",
    "        \n",
    "        random.shuffle(func_corr_lst)\n",
    "        for func in (func_lst + func_corr_lst): #In case of some functions staying in the memory forever\n",
    "            _type = func_class[func].type\n",
    "            \n",
    "            if func in test_func_arrcount and test_func_arrcount[func][i] > 0: #invok\n",
    "                func_invok[func] += test_func_arrcount[func][i]\n",
    "                func_invok_bool[func] += 1\n",
    "                \n",
    "                if not func_class[func].state: #cold start\n",
    "                    func_cold[func] += 1\n",
    "                    func_class[func].load(i)\n",
    "                    memory.add(func)\n",
    "                \n",
    "                if func_class[func].wait_time is None or func_class[func].wait_time > 0: #A new invocation seq begins currently\n",
    "                    func_class[func].pre_call_start = i\n",
    "                    func_class[func].adp_wait.append(func_class[func].wait_time)\n",
    "                    \n",
    "                    ## Shift: Update predictive values\n",
    "                    if SHIFT and (_type in [REGULAR, DENSE, POSSIBLE, NEW_POSS, UNKNOWN]) and len(func_class[func].adp_wait) >= 5: # Adaptively Updating\n",
    "                        if _type == REGULAR:\n",
    "                            if abs(np.median(func_class[func].adp_wait) - func_class[func].pred_interval[0]) > max(1, func_class[func].idle_info[\"std\"]):\n",
    "                                func_class[func].pred_interval[0] = (func_class[func].pred_interval[0]+np.median(func_class[func].adp_wait))/2\n",
    "                                \n",
    "                        elif _type == DENSE:\n",
    "                            if abs(min(func_class[func].adp_wait) - func_class[func].pred_interval[0]) > 1:\n",
    "                                func_class[func].pred_interval[0] = min(func_class[func].adp_wait)\n",
    "                            if (abs(max(func_class[func].adp_wait) - func_class[func].pred_interval[1]) > 1) \\\n",
    "                                and max(func_class[func].adp_wait) <= DENSE_UPPER_BOUND:\n",
    "                                func_class[func].pred_interval[1] = max(func_class[func].adp_wait)\n",
    "                        \n",
    "                        elif _type in [POSSIBLE, NEW_POSS]:\n",
    "                            idle_unique, idle_counts = np.unique(func_class[func].adp_wait, return_counts=True)\n",
    "                            if max(idle_counts) >= max(2, func_class[func].idle_info[\"mode_count\"][-1]):\n",
    "                                idle_max_index = np.argsort(-idle_counts)\n",
    "                                for idx in idle_max_index:\n",
    "                                    if idle_unique[idx] in func_class[func].idle_info[\"mode\"]: continue\n",
    "                                    pos = len(func_class[func].idle_info[\"mode_count\"]) - \\\n",
    "                                            bisect.bisect(func_class[func].idle_info[\"mode_count\"][::-1], idle_counts[idx])\n",
    "                                    if pos >= len(func_class[func].idle_info[\"mode_count\"]): continue\n",
    "                                        \n",
    "                                    if idle_counts[idx] > func_class[func].idle_info[\"mode_count\"][pos]:\n",
    "                                        func_class[func].idle_info[\"mode_count\"][pos] = idle_counts[idx]\n",
    "                                        func_class[func].idle_info[\"mode\"][pos] = idle_unique[idx]\n",
    "                                    elif idle_counts[idx] == func_class[func].idle_info[\"mode_count\"][pos]:\n",
    "                                        func_class[func].idle_info[\"mode_count\"].insert(pos, idle_counts[idx])\n",
    "                                        func_class[func].idle_info[\"mode\"].insert(pos, idle_unique[idx])\n",
    "\n",
    "                                \n",
    "                                if max(func_class[func].idle_info[\"mode\"]) - min(func_class[func].idle_info[\"mode\"]) <= DISCRETE_TH:\n",
    "                                    func_class[func].pred_interval = [min(func_class[func].idle_info[\"mode\"]), \n",
    "                                                      max(func_class[func].idle_info[\"mode\"])]\n",
    "                                    func_class[func].idle_info[\"pred_interval_discrete\"] = False\n",
    "                                else: \n",
    "                                    func_class[func].pred_interval = sorted(list(func_class[func].idle_info[\"mode\"]))\n",
    "                                    func_class[func].idle_info[\"pred_interval_discrete\"] = True\n",
    "                                \n",
    "                        elif _type == UNKNOWN:\n",
    "                            idle_unique, idle_counts = np.unique(func_class[func].adp_wait, return_counts=True)\n",
    "                            idxs = np.argsort(-idle_counts)[: min(5, sum(np.where(idle_counts > 1, 1, 0)))]\n",
    "                            mode_lst = idle_unique[idxs]\n",
    "                            if len(mode_lst) > 0:\n",
    "                                func_class[func].type = NEW_POSS\n",
    "                                func_class[func].idle_info[\"mode\"] = mode_lst.tolist()\n",
    "                                func_class[func].idle_info[\"mode_count\"] = idle_counts[idxs].tolist()\n",
    "                                \n",
    "                                if max(mode_lst) - min(mode_lst) <= DISCRETE_TH:\n",
    "                                    func_class[func].idle_info[\"pred_interval_discrete\"] = False\n",
    "                                    func_class[func].pred_interval = [min(mode_lst), max(mode_lst)]\n",
    "                                else:\n",
    "                                    func_class[func].idle_info[\"pred_interval_discrete\"] = True\n",
    "                                    func_class[func].pred_interval = sorted(list(mode_lst))\n",
    "                                \n",
    "                func_class[func].wait_time = 0\n",
    "                func_class[func].last_call = i\n",
    "                \n",
    "                #Update prediction for UNI, LIMITIDLE, DENSE, DIVI\n",
    "                if _type == REGULAR:\n",
    "                    func_class[func].next_invok_start = [(i + 1 + func_class[func].pred_interval[0] - min(func_class[func].idle_info[\"std\"], EN_STD),\n",
    "                                                          i + 1 + func_class[func].pred_interval[0] + min(func_class[func].idle_info[\"std\"], EN_STD))]\n",
    "                        \n",
    "                elif _type == APPRO_REGULAR or (_type in [POSSIBLE, NEW_POSS] and func_class[func].idle_info[\"pred_interval_discrete\"]):\n",
    "                    func_class[func].next_invok_start = [(i + p + 1, i + p + 1) for p in func_class[func].pred_interval]\n",
    "                \n",
    "                elif _type == DENSE or (_type in [POSSIBLE, NEW_POSS] and (not func_class[func].idle_info[\"pred_interval_discrete\"])):\n",
    "                    func_class[func].next_invok_start = [(i + func_class[func].pred_interval[0] + 1, i + func_class[func].pred_interval[1] + 1)]\n",
    "                \n",
    "                #The occurrences of candidate functions can be predictive indicators.\n",
    "\n",
    "                if func in candifunc_func: \n",
    "                    for (target_func, lag) in candifunc_func[func]:\n",
    "                        func_class[target_func].next_invok_start[func] = [(i, i + lag)]\n",
    "                        if _type in [REGULAR, APPRO_REGULAR, DENSE, POSSIBLE, NEW_POSS]:\n",
    "                            func_class[target_func].next_invok_start[func] += [(l, r + lag) \n",
    "                                                                             for (l, r) in func_class[func].next_invok_start]\n",
    "                if func in test_func_corr:\n",
    "                    for target_func in test_func_corr[func]:\n",
    "                        if func_class[target_func].type == CORR:\n",
    "                            func_class[target_func].next_invok_start[func] += [(i, i + 1)]\n",
    "                            func_class[target_func].next_invok_start[func] = list(set(func_class[target_func].next_invok_start[func]))\n",
    "                        else:\n",
    "                            #assert not isinstance(func_class[post_func].next_invok_start, dict), post_func\n",
    "                            func_class[target_func].next_invok_start += [(i, i + 1)]\n",
    "                            func_class[target_func].next_invok_start = list(set(func_class[target_func].next_invok_start))\n",
    "                        \n",
    "            else: # not invok\n",
    "                #func_class[func].cal_idle()\n",
    "                if func_class[func].wait_time is None:\n",
    "                    func_class[func].wait_time = 1\n",
    "                else:\n",
    "                    func_class[func].wait_time += 1\n",
    "                    \n",
    "                if func in memory:\n",
    "                    waste_mem_time += 1\n",
    "                    if func in func_waste:\n",
    "                        func_waste[func] += 1\n",
    "                \n",
    "                # Prewarm according to different types\n",
    "                pre_warm_flag = False\n",
    "                \n",
    "                if _type == REGULAR:\n",
    "                    (p_small, p_large) = func_class[func].next_invok_start[0]\n",
    "                    p_small += (func_class[func].pred_interval[0] + 1) * int(p_large <= i) #allow for one missing hit\n",
    "                    func_class[func].next_invok_start[0] = (p_small, p_small + 2 * min(func_class[func].idle_info[\"std\"], EN_STD))\n",
    "\n",
    "                if _type in [REGULAR, APPRO_REGULAR, DENSE, POSSIBLE, NEW_POSS, UNKNOWN]:\n",
    "                    for (left, right) in func_class[func].next_invok_start:\n",
    "                        if left <= i + PRE_WARM and right >= i - PRE_WARM:\n",
    "                            pre_warm_flag = True\n",
    "                            break\n",
    "\n",
    "                elif _type == CORR:\n",
    "                    for tuple_lst in func_class[func].next_invok_start.values():\n",
    "                        for (left, right) in tuple_lst:\n",
    "                            if left <= i + PRE_WARM and right >= i - PRE_WARM:\n",
    "                                pre_warm_flag = True\n",
    "                                break\n",
    "                        if pre_warm_flag: break\n",
    "                \n",
    "                if func_class[func].state and (not pre_warm_flag) and func_class[func].wait_time >= GIVE_UP[_type]: #Remove\n",
    "                    memory.remove(func)\n",
    "                    func_class[func].unload()\n",
    "                \n",
    "                elif pre_warm_flag:\n",
    "                    memory.add(func)\n",
    "                    func_class[func].load(i)\n",
    "\n",
    "        memory_size.append(len(memory))\n",
    "        \n",
    "        ## Update test_corr\n",
    "        for func, perform_dict in test_func_corr_perform:\n",
    "            for candi in perform_dict:\n",
    "                test_func_corr_perform[func][candi] += int(bool(test_func_arrcount[func][i]) & bool(test_func_arrcount[candi][i]))\n",
    "        \n",
    "        for func, perform_dict in test_func_corr_perform.items():\n",
    "            best_perform = max(perform_dict.values())\n",
    "            del_lst = []\n",
    "            for candi, perform in perform_dict:\n",
    "                if best_perform - perform >= 2:\n",
    "                    del_lst.append(candi)\n",
    "            for candi in del_lst:\n",
    "                del test_func_corr[func][candi]\n",
    "                del test_func_corr_perform[func][candi]"
   ]
  },
  {
   "cell_type": "markdown",
   "id": "979fff24",
   "metadata": {},
   "source": [
    "# Results\n",
    "\n",
    "### Record"
   ]
  },
  {
   "cell_type": "code",
   "execution_count": 80,
   "id": "9ef5516d",
   "metadata": {},
   "outputs": [],
   "source": [
    "def json_pretty_dump(obj, filename):\n",
    "    with open(filename, \"w\") as fw:\n",
    "        json.dump(obj,fw, sort_keys=True, indent=4, separators=(\",\", \": \"), ensure_ascii=False)"
   ]
  },
  {
   "cell_type": "code",
   "execution_count": 81,
   "id": "af115a40",
   "metadata": {},
   "outputs": [],
   "source": [
    "import time\n",
    "os.makedirs(\"../result\", exist_ok=True)\n",
    "\n",
    "cur_time = time.strftime(\"%d-%H-%M\", time.localtime())\n",
    "\n",
    "json_pretty_dump(func_cold, f\"../result/func_cold_{cur_time}.json\")\n",
    "json_pretty_dump(func_waste, f\"../result/func_waste_{cur_time}.json\")\n",
    "json_pretty_dump(func_invok, f\"../result/func_invok_{cur_time}.json\")\n",
    "json_pretty_dump(memory_size, f\"../result/memory_size_{cur_time}.json\")"
   ]
  }
 ],
 "metadata": {
  "kernelspec": {
   "display_name": "Python 3 (ipykernel)",
   "language": "python",
   "name": "python3"
  },
  "language_info": {
   "codemirror_mode": {
    "name": "ipython",
    "version": 3
   },
   "file_extension": ".py",
   "mimetype": "text/x-python",
   "name": "python",
   "nbconvert_exporter": "python",
   "pygments_lexer": "ipython3",
   "version": "3.9.13"
  }
 },
 "nbformat": 4,
 "nbformat_minor": 5
}
